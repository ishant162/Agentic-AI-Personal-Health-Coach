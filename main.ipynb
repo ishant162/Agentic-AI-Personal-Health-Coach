{
 "cells": [
  {
   "cell_type": "code",
   "execution_count": null,
   "id": "9b1352b3",
   "metadata": {},
   "outputs": [],
   "source": [
    "import os\n",
    "from dotenv import load_dotenv\n",
    "load_dotenv() ## loading all the environment variable\n",
    "\n",
    "\n",
    "os.environ[\"GROQ_API_KEY\"] = os.getenv(\"GROQ_API\")"
   ]
  }
 ],
 "metadata": {
  "kernelspec": {
   "display_name": "env_coach",
   "language": "python",
   "name": "python3"
  },
  "language_info": {
   "codemirror_mode": {
    "name": "ipython",
    "version": 3
   },
   "file_extension": ".py",
   "mimetype": "text/x-python",
   "name": "python",
   "nbconvert_exporter": "python",
   "pygments_lexer": "ipython3",
   "version": "3.10.12"
  }
 },
 "nbformat": 4,
 "nbformat_minor": 5
}
